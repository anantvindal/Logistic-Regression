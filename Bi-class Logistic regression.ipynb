{
 "cells": [
  {
   "cell_type": "code",
   "execution_count": 1,
   "metadata": {},
   "outputs": [],
   "source": [
    "import numpy as np\n",
    "import pandas as pd"
   ]
  },
  {
   "cell_type": "code",
   "execution_count": 2,
   "metadata": {},
   "outputs": [],
   "source": [
    "raw_data = pd.read_csv('D:\\\\Datasets\\\\Winsconsin\\\\data.csv')"
   ]
  },
  {
   "cell_type": "code",
   "execution_count": 3,
   "metadata": {},
   "outputs": [],
   "source": [
    "raw_data = raw_data.drop(columns=[raw_data.columns[-1],raw_data.columns[0]],axis=1)"
   ]
  },
  {
   "cell_type": "code",
   "execution_count": 4,
   "metadata": {},
   "outputs": [
    {
     "data": {
      "text/html": [
       "<div>\n",
       "<style scoped>\n",
       "    .dataframe tbody tr th:only-of-type {\n",
       "        vertical-align: middle;\n",
       "    }\n",
       "\n",
       "    .dataframe tbody tr th {\n",
       "        vertical-align: top;\n",
       "    }\n",
       "\n",
       "    .dataframe thead th {\n",
       "        text-align: right;\n",
       "    }\n",
       "</style>\n",
       "<table border=\"1\" class=\"dataframe\">\n",
       "  <thead>\n",
       "    <tr style=\"text-align: right;\">\n",
       "      <th></th>\n",
       "      <th>diagnosis</th>\n",
       "      <th>radius_mean</th>\n",
       "      <th>texture_mean</th>\n",
       "      <th>perimeter_mean</th>\n",
       "      <th>area_mean</th>\n",
       "      <th>smoothness_mean</th>\n",
       "      <th>compactness_mean</th>\n",
       "      <th>concavity_mean</th>\n",
       "      <th>concave points_mean</th>\n",
       "      <th>symmetry_mean</th>\n",
       "      <th>...</th>\n",
       "      <th>radius_worst</th>\n",
       "      <th>texture_worst</th>\n",
       "      <th>perimeter_worst</th>\n",
       "      <th>area_worst</th>\n",
       "      <th>smoothness_worst</th>\n",
       "      <th>compactness_worst</th>\n",
       "      <th>concavity_worst</th>\n",
       "      <th>concave points_worst</th>\n",
       "      <th>symmetry_worst</th>\n",
       "      <th>fractal_dimension_worst</th>\n",
       "    </tr>\n",
       "  </thead>\n",
       "  <tbody>\n",
       "    <tr>\n",
       "      <th>0</th>\n",
       "      <td>M</td>\n",
       "      <td>17.99</td>\n",
       "      <td>10.38</td>\n",
       "      <td>122.80</td>\n",
       "      <td>1001.0</td>\n",
       "      <td>0.11840</td>\n",
       "      <td>0.27760</td>\n",
       "      <td>0.3001</td>\n",
       "      <td>0.14710</td>\n",
       "      <td>0.2419</td>\n",
       "      <td>...</td>\n",
       "      <td>25.38</td>\n",
       "      <td>17.33</td>\n",
       "      <td>184.60</td>\n",
       "      <td>2019.0</td>\n",
       "      <td>0.1622</td>\n",
       "      <td>0.6656</td>\n",
       "      <td>0.7119</td>\n",
       "      <td>0.2654</td>\n",
       "      <td>0.4601</td>\n",
       "      <td>0.11890</td>\n",
       "    </tr>\n",
       "    <tr>\n",
       "      <th>1</th>\n",
       "      <td>M</td>\n",
       "      <td>20.57</td>\n",
       "      <td>17.77</td>\n",
       "      <td>132.90</td>\n",
       "      <td>1326.0</td>\n",
       "      <td>0.08474</td>\n",
       "      <td>0.07864</td>\n",
       "      <td>0.0869</td>\n",
       "      <td>0.07017</td>\n",
       "      <td>0.1812</td>\n",
       "      <td>...</td>\n",
       "      <td>24.99</td>\n",
       "      <td>23.41</td>\n",
       "      <td>158.80</td>\n",
       "      <td>1956.0</td>\n",
       "      <td>0.1238</td>\n",
       "      <td>0.1866</td>\n",
       "      <td>0.2416</td>\n",
       "      <td>0.1860</td>\n",
       "      <td>0.2750</td>\n",
       "      <td>0.08902</td>\n",
       "    </tr>\n",
       "    <tr>\n",
       "      <th>2</th>\n",
       "      <td>M</td>\n",
       "      <td>19.69</td>\n",
       "      <td>21.25</td>\n",
       "      <td>130.00</td>\n",
       "      <td>1203.0</td>\n",
       "      <td>0.10960</td>\n",
       "      <td>0.15990</td>\n",
       "      <td>0.1974</td>\n",
       "      <td>0.12790</td>\n",
       "      <td>0.2069</td>\n",
       "      <td>...</td>\n",
       "      <td>23.57</td>\n",
       "      <td>25.53</td>\n",
       "      <td>152.50</td>\n",
       "      <td>1709.0</td>\n",
       "      <td>0.1444</td>\n",
       "      <td>0.4245</td>\n",
       "      <td>0.4504</td>\n",
       "      <td>0.2430</td>\n",
       "      <td>0.3613</td>\n",
       "      <td>0.08758</td>\n",
       "    </tr>\n",
       "    <tr>\n",
       "      <th>3</th>\n",
       "      <td>M</td>\n",
       "      <td>11.42</td>\n",
       "      <td>20.38</td>\n",
       "      <td>77.58</td>\n",
       "      <td>386.1</td>\n",
       "      <td>0.14250</td>\n",
       "      <td>0.28390</td>\n",
       "      <td>0.2414</td>\n",
       "      <td>0.10520</td>\n",
       "      <td>0.2597</td>\n",
       "      <td>...</td>\n",
       "      <td>14.91</td>\n",
       "      <td>26.50</td>\n",
       "      <td>98.87</td>\n",
       "      <td>567.7</td>\n",
       "      <td>0.2098</td>\n",
       "      <td>0.8663</td>\n",
       "      <td>0.6869</td>\n",
       "      <td>0.2575</td>\n",
       "      <td>0.6638</td>\n",
       "      <td>0.17300</td>\n",
       "    </tr>\n",
       "    <tr>\n",
       "      <th>4</th>\n",
       "      <td>M</td>\n",
       "      <td>20.29</td>\n",
       "      <td>14.34</td>\n",
       "      <td>135.10</td>\n",
       "      <td>1297.0</td>\n",
       "      <td>0.10030</td>\n",
       "      <td>0.13280</td>\n",
       "      <td>0.1980</td>\n",
       "      <td>0.10430</td>\n",
       "      <td>0.1809</td>\n",
       "      <td>...</td>\n",
       "      <td>22.54</td>\n",
       "      <td>16.67</td>\n",
       "      <td>152.20</td>\n",
       "      <td>1575.0</td>\n",
       "      <td>0.1374</td>\n",
       "      <td>0.2050</td>\n",
       "      <td>0.4000</td>\n",
       "      <td>0.1625</td>\n",
       "      <td>0.2364</td>\n",
       "      <td>0.07678</td>\n",
       "    </tr>\n",
       "  </tbody>\n",
       "</table>\n",
       "<p>5 rows × 31 columns</p>\n",
       "</div>"
      ],
      "text/plain": [
       "  diagnosis  radius_mean  texture_mean  perimeter_mean  area_mean  \\\n",
       "0         M        17.99         10.38          122.80     1001.0   \n",
       "1         M        20.57         17.77          132.90     1326.0   \n",
       "2         M        19.69         21.25          130.00     1203.0   \n",
       "3         M        11.42         20.38           77.58      386.1   \n",
       "4         M        20.29         14.34          135.10     1297.0   \n",
       "\n",
       "   smoothness_mean  compactness_mean  concavity_mean  concave points_mean  \\\n",
       "0          0.11840           0.27760          0.3001              0.14710   \n",
       "1          0.08474           0.07864          0.0869              0.07017   \n",
       "2          0.10960           0.15990          0.1974              0.12790   \n",
       "3          0.14250           0.28390          0.2414              0.10520   \n",
       "4          0.10030           0.13280          0.1980              0.10430   \n",
       "\n",
       "   symmetry_mean           ...             radius_worst  texture_worst  \\\n",
       "0         0.2419           ...                    25.38          17.33   \n",
       "1         0.1812           ...                    24.99          23.41   \n",
       "2         0.2069           ...                    23.57          25.53   \n",
       "3         0.2597           ...                    14.91          26.50   \n",
       "4         0.1809           ...                    22.54          16.67   \n",
       "\n",
       "   perimeter_worst  area_worst  smoothness_worst  compactness_worst  \\\n",
       "0           184.60      2019.0            0.1622             0.6656   \n",
       "1           158.80      1956.0            0.1238             0.1866   \n",
       "2           152.50      1709.0            0.1444             0.4245   \n",
       "3            98.87       567.7            0.2098             0.8663   \n",
       "4           152.20      1575.0            0.1374             0.2050   \n",
       "\n",
       "   concavity_worst  concave points_worst  symmetry_worst  \\\n",
       "0           0.7119                0.2654          0.4601   \n",
       "1           0.2416                0.1860          0.2750   \n",
       "2           0.4504                0.2430          0.3613   \n",
       "3           0.6869                0.2575          0.6638   \n",
       "4           0.4000                0.1625          0.2364   \n",
       "\n",
       "   fractal_dimension_worst  \n",
       "0                  0.11890  \n",
       "1                  0.08902  \n",
       "2                  0.08758  \n",
       "3                  0.17300  \n",
       "4                  0.07678  \n",
       "\n",
       "[5 rows x 31 columns]"
      ]
     },
     "execution_count": 4,
     "metadata": {},
     "output_type": "execute_result"
    }
   ],
   "source": [
    "raw_data.head()"
   ]
  },
  {
   "cell_type": "code",
   "execution_count": 5,
   "metadata": {},
   "outputs": [],
   "source": [
    "#split data according to class\n",
    "m_data = raw_data[raw_data['diagnosis']=='M']\n",
    "b_data = raw_data[raw_data['diagnosis']=='B']"
   ]
  },
  {
   "cell_type": "code",
   "execution_count": 6,
   "metadata": {},
   "outputs": [],
   "source": [
    "#evenly split train data\n",
    "train = pd.concat([m_data.iloc[0:170],b_data.iloc[0:170]])\n",
    "test = pd.concat([m_data.iloc[170:],b_data.iloc[170:]])"
   ]
  },
  {
   "cell_type": "code",
   "execution_count": 7,
   "metadata": {},
   "outputs": [],
   "source": [
    "train['diagnosis'].replace(to_replace=['B','M'],value=[0,1],inplace=True)\n",
    "labels = train['diagnosis']\n",
    "labels = np.array(labels)\n",
    "labels = labels.reshape(train.shape[0],1)"
   ]
  },
  {
   "cell_type": "code",
   "execution_count": 9,
   "metadata": {},
   "outputs": [],
   "source": [
    "#Z-score normalisation\n",
    "training_data = (train.iloc[:,1:])\n",
    "\n",
    "mu=[]\n",
    "std=[]\n",
    "for i in range(training_data.shape[1]):\n",
    "    mu.append(training_data.iloc[:,i].mean())\n",
    "    std.append(training_data.iloc[:,i].std())"
   ]
  },
  {
   "cell_type": "code",
   "execution_count": 11,
   "metadata": {},
   "outputs": [],
   "source": [
    "def Decision_boundary(data,params):\n",
    "    '''\n",
    "    this function calculates the decision boundary\n",
    "    y = theta*X + thet0\n",
    "    '''\n",
    "    ans = np.matmul(data,params[0]) + params[1]\n",
    "    #print('ans',ans.shape)\n",
    "    return ans"
   ]
  },
  {
   "cell_type": "code",
   "execution_count": 12,
   "metadata": {},
   "outputs": [],
   "source": [
    "def Sigmoid(plane):\n",
    "    return np.array((1/(1+np.exp(-plane))))"
   ]
  },
  {
   "cell_type": "code",
   "execution_count": 13,
   "metadata": {},
   "outputs": [],
   "source": [
    "def Neg_log_loss(H,labels,thet):\n",
    "    a = (-1/labels.shape[0])*(np.sum(np.matmul(np.transpose(labels),np.log(H)))\\\n",
    "                               + np.sum(np.matmul(np.transpose(1-labels),np.log(1-H))))\n",
    "    return a"
   ]
  },
  {
   "cell_type": "code",
   "execution_count": 14,
   "metadata": {},
   "outputs": [],
   "source": [
    "def fdash_thet0(H,labels):\n",
    "    a=np.sum(labels - H)\n",
    "    return np.sum(labels - H)"
   ]
  },
  {
   "cell_type": "code",
   "execution_count": 15,
   "metadata": {},
   "outputs": [],
   "source": [
    "def fdash_thet(H,labels):\n",
    "    score = np.asarray(H,dtype=float)\n",
    "    labels = np.asarray(labels,dtype=float)\n",
    "    ans = H - labels\n",
    "    ans = np.matmul(np.transpose(ans),training_data) + (0.01/340)*np.sum(H)\n",
    "    return np.transpose(ans)"
   ]
  },
  {
   "cell_type": "code",
   "execution_count": 16,
   "metadata": {},
   "outputs": [
    {
     "name": "stdout",
     "output_type": "stream",
     "text": [
      "neg log loss and loss at iteration 0 is 0.0020890626938873114 0.691058117866058\n",
      "neg log loss and loss at iteration 5000 is 9.799334434790197e-06 0.563017310675908\n",
      "neg log loss and loss at iteration 10000 is 6.773230262102636e-06 0.5224413687295089\n",
      "neg log loss and loss at iteration 15000 is 5.1143504749551205e-06 0.49308242033194444\n",
      "neg log loss and loss at iteration 20000 is 4.079283290381319e-06 0.4702803694192343\n",
      "neg log loss and loss at iteration 25000 is 3.376720672298994e-06 0.4517439154845446\n",
      "neg log loss and loss at iteration 30000 is 2.870588254877404e-06 0.4361896686982297\n",
      "neg log loss and loss at iteration 35000 is 2.489379972603345e-06 0.4228318586537948\n",
      "neg log loss and loss at iteration 40000 is 2.192152454061347e-06 0.4111570802104889\n",
      "neg log loss and loss at iteration 45000 is 1.9538847831901407e-06 0.4008128114704929\n",
      "neg log loss and loss at iteration 50000 is 1.7584875328102711e-06 0.3915472837315647\n",
      "neg log loss and loss at iteration 55000 is 1.5951830318883253e-06 0.3831748064344985\n",
      "neg log loss and loss at iteration 60000 is 1.456505930197416e-06 0.375554675221568\n",
      "neg log loss and loss at iteration 65000 is 1.337138823442885e-06 0.368577771144341\n",
      "neg log loss and loss at iteration 70000 is 1.2332035373430195e-06 0.362157733021892\n",
      "neg log loss and loss at iteration 75000 is 1.141813151750437e-06 0.3562249634691751\n",
      "neg log loss and loss at iteration 80000 is 1.060779415029689e-06 0.3507224541343849\n",
      "loss at iteration 84163 is 0.3464359411349666\n"
     ]
    }
   ],
   "source": [
    "#initialize thetas for gradient descent\n",
    "training_data=np.array(training_data_1)\n",
    "thet0_i = np.zeros(shape=(1,1))\n",
    "\n",
    "thet_i = np.zeros(shape=(30,1))\n",
    "\n",
    "epsilon = 10e-7\n",
    "\n",
    "learning_rate = 10e-11\n",
    "\n",
    "iterations = []\n",
    "\n",
    "neg_log_history = []\n",
    "score_vals = []\n",
    "\n",
    "i=0\n",
    "\n",
    "while True:\n",
    "    plane_i = Decision_boundary(training_data,[thet_i,thet0_i])\n",
    "    H_i = Sigmoid(plane_i)\n",
    "    \n",
    "    thet0_f = thet0_i - learning_rate*(fdash_thet0(H_i,labels))\n",
    "    thet_f = thet_i - learning_rate*(fdash_thet(H_i,labels))\n",
    "    \n",
    "    plane_f = Decision_boundary(training_data,[thet_f,thet0_f])\n",
    "    score_vals.append(plane_f)\n",
    "    H_f = Sigmoid(plane_f)\n",
    "    \n",
    "    neg_loss = Neg_log_loss(H_i,labels,thet_i) - Neg_log_loss(H_f,labels,thet_f)\n",
    "    neg_log_history.append(Neg_log_loss(H_i,labels,thet_i))\n",
    "    iterations.append(i)\n",
    "    \n",
    "    if i%5000==0:\n",
    "        print('neg log loss and loss at iteration {} is {} {}'.format(i,neg_loss,Neg_log_loss(H_f,labels,thet_f)))\n",
    "    \n",
    "    i+=1\n",
    "    \n",
    "    if abs(neg_loss)<epsilon:\n",
    "        print('loss at iteration {} is {}'.format(i,Neg_log_loss(H_f,labels,thet_f)))\n",
    "        break\n",
    "    else:\n",
    "        thet0_i = thet0_f\n",
    "        thet_i = thet_f  "
   ]
  },
  {
   "cell_type": "code",
   "execution_count": 17,
   "metadata": {},
   "outputs": [],
   "source": [
    "#training accuracy\n",
    "train_vals=[]\n",
    "for i in Sigmoid(score_vals[-1]):\n",
    "    if i<0.5:\n",
    "        train_vals.append(0)\n",
    "    else:\n",
    "        train_vals.append(1)\n",
    "train_vals = np.array(train_vals)\n",
    "train_vals = train_vals.reshape(train.shape[0],1)"
   ]
  },
  {
   "cell_type": "code",
   "execution_count": 18,
   "metadata": {},
   "outputs": [
    {
     "data": {
      "text/plain": [
       "0.9088235294117647"
      ]
     },
     "execution_count": 18,
     "metadata": {},
     "output_type": "execute_result"
    }
   ],
   "source": [
    "(np.count_nonzero(train_vals==labels)/train.shape[0])"
   ]
  },
  {
   "cell_type": "code",
   "execution_count": 19,
   "metadata": {},
   "outputs": [],
   "source": [
    "#prep test data\n",
    "test.replace(to_replace=['B','M'],value=[0,1],inplace=True)"
   ]
  },
  {
   "cell_type": "code",
   "execution_count": 21,
   "metadata": {},
   "outputs": [],
   "source": [
    "test_labels = test['diagnosis']\n",
    "test_labels = np.array(test_labels).reshape(test.shape[0],1)"
   ]
  },
  {
   "cell_type": "code",
   "execution_count": 33,
   "metadata": {},
   "outputs": [
    {
     "data": {
      "text/plain": [
       "0.9170305676855895"
      ]
     },
     "execution_count": 33,
     "metadata": {},
     "output_type": "execute_result"
    }
   ],
   "source": [
    "#testing accuracy\n",
    "test_scores = Decision_boundary(np.array(test.iloc[:,1:]),[thet_f,thet0_f])\n",
    "\n",
    "test_vals=[]\n",
    "\n",
    "for i in Sigmoid(test_scores):\n",
    "    if i<0.5:\n",
    "        test_vals.append(0)\n",
    "    else:\n",
    "        test_vals.append(1)\n",
    "test_vals = np.array(test_vals)\n",
    "test_vals = test_vals.reshape(test.shape[0],1)\n",
    "(np.count_nonzero(test_vals==test_labels)/test.shape[0])"
   ]
  },
  {
   "cell_type": "code",
   "execution_count": null,
   "metadata": {},
   "outputs": [],
   "source": []
  },
  {
   "cell_type": "code",
   "execution_count": null,
   "metadata": {},
   "outputs": [],
   "source": []
  },
  {
   "cell_type": "code",
   "execution_count": null,
   "metadata": {},
   "outputs": [],
   "source": []
  }
 ],
 "metadata": {
  "kernelspec": {
   "display_name": "Python 3",
   "language": "python",
   "name": "python3"
  },
  "language_info": {
   "codemirror_mode": {
    "name": "ipython",
    "version": 3
   },
   "file_extension": ".py",
   "mimetype": "text/x-python",
   "name": "python",
   "nbconvert_exporter": "python",
   "pygments_lexer": "ipython3",
   "version": "3.6.5"
  }
 },
 "nbformat": 4,
 "nbformat_minor": 2
}
