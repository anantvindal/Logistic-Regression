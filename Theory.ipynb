{
 "cells": [
  {
   "cell_type": "markdown",
   "metadata": {},
   "source": [
    "Logistic Regression is a Discriminative algorithm i.e. is calculates Posterior Probability over classes directly without the involvement of Likelihood Probabilities. Let us see how it works.<br>\n",
    "\n",
    "Let us consider a bi-class dataset<br>\n",
    "From Baye's theorem-<br>\n",
    "$P(class=0|x) = \\frac{P(x|class=0) * P(class=0)}{\\sum_{i=0}^{1}P(x|class=i)*P(class=i)}$\n",
    "<br>\n",
    "$P(class=1|x) = \\frac{P(x|class=1) * P(class=1)}{\\sum_{i=1}^{1}P(x|class=i)*P(class=i)}$\n",
    "<br>\n"
   ]
  },
  {
   "cell_type": "markdown",
   "metadata": {},
   "source": [
    "On dividing both the equations we get:-<br><br>\n",
    "$\\frac{P(class=1|x)}{P(class=0|x)}\\,=\\,\\frac{P(x|class=1)}{P(x|class=0)}$\n",
    "<br><br>\n",
    "Considering that the data comes from Gaussian distribution and applying the assumption of LDA $(\\hat\\sigma_0\\,=\\,\\hat\\sigma_1\\,=\\,\\hat\\sigma_{pooled})$\n",
    "<br>\n",
    "$\\large ln{\\frac{P(class=1|x)}{P(class=0|x)}\\,=\\,ln{\\frac{e^{\\frac{-0.5[x-\\hat\\mu_1]^2}{\\hat\\sigma_1^2}}}{{e^{\\frac{-0.5[x-\\hat\\mu_0]^2}{\\hat\\sigma_0^2}}}}}}$"
   ]
  },
  {
   "cell_type": "markdown",
   "metadata": {},
   "source": [
    "After solving the above equation we get the equation of a line:-<br>\n",
    "\n",
    "$\\large ln\\frac{P(class=1|x)}{P(class=0|x)}\\,=\\,\\frac{\\hat\\mu_0^2 - \\hat\\mu_1^2}{\\hat\\sigma_{pooled}^2}+\\frac{\\hat\\mu_1 - \\hat\\mu_0}{\\hat\\sigma_{pooled}^2}x$\n",
    "<br><br>\n",
    "$ y\\,=\\,\\theta_0 \\, + \\, \\theta_1 x$"
   ]
  },
  {
   "cell_type": "markdown",
   "metadata": {},
   "source": [
    "After removing log, the equation gets converted into:-<br>\n",
    "\n",
    "$\\large \\frac{1-P(class=1|x)}{P(class=1|x)}\\,=\\,e^{-(\\theta_0 + \\theta_1x)}$\n",
    "<br><br>\n",
    "$\\large P(class=0|x)\\,=\\,\\frac{1}{1+e^{-(\\theta_0 + \\theta_1x)}}$\n",
    "<br><br>\n",
    "We finally get the Sigmoid function:-<br>\n",
    "$\\large \\frac{1}{1+e^{-(\\theta_0 + \\theta_1x)}}$\n",
    "<br><br>\n",
    "The output of Sigmoid is [0,1]<br>\n",
    "<br>\n",
    "$ y\\,=\\,\\theta_0 \\, + \\, \\theta_1 x$ is the discriminator function. It is the line that divides our data into two classes"
   ]
  },
  {
   "cell_type": "code",
   "execution_count": 16,
   "metadata": {},
   "outputs": [
    {
     "data": {
      "image/png": "[encoded data removed]",
      "text/plain": [
       "<Figure size 432x288 with 1 Axes>"
      ]
     },
     "metadata": {},
     "output_type": "display_data"
    }
   ],
   "source": [
    "import matplotlib.pyplot as plt\n",
    "import numpy as np\n",
    "def sigmoid(x):\n",
    "    return 1/(1+np.exp(-x))\n",
    "\n",
    "x = np.arange(-5,5)\n",
    "plt.plot(x,sigmoid(x))\n",
    "plt.xlabel('X')\n",
    "plt.ylabel('Sigmoid(X)')\n",
    "plt.show()"
   ]
  },
  {
   "cell_type": "markdown",
   "metadata": {},
   "source": [
    "### Loss Function\n",
    "Loss function for bi-class logistic regression is-<br>\n",
    "$L = -\\frac{1}{N}\\sum_{i=1}^{N}[y^i ln(H_i{(\\theta_0 , \\theta)}) + (1-y^i)ln(1-H_i({\\theta_0 , \\theta}))]$\n",
    "<br>\n",
    "Where H is Sigmoid function calculated for point $X^i$"
   ]
  },
  {
   "cell_type": "markdown",
   "metadata": {},
   "source": [
    "FOr multi-class Logistic Regression we use Softmax function instead of Sigmoid function as it is easier to plot one vs all classification boundaries instead of plotting one vs one boundary.<br>\n",
    "$\\large Softmax = {\\frac{e^{\\theta_{0}^{m} + \\theta^{mT}X^i}}{\\sum_{j=0}^{k}e^{\\theta_{0}^{j} + \\theta^{jT}X^i}}} $\n",
    "<br>\n",
    "(for k classes)"
   ]
  },
  {
   "cell_type": "code",
   "execution_count": null,
   "metadata": {},
   "outputs": [],
   "source": []
  }
 ],
 "metadata": {
  "kernelspec": {
   "display_name": "Python 3",
   "language": "python",
   "name": "python3"
  },
  "language_info": {
   "codemirror_mode": {
    "name": "ipython",
    "version": 3
   },
   "file_extension": ".py",
   "mimetype": "text/x-python",
   "name": "python",
   "nbconvert_exporter": "python",
   "pygments_lexer": "ipython3",
   "version": "3.6.5"
  }
 },
 "nbformat": 4,
 "nbformat_minor": 2
}
